{
  "nbformat": 4,
  "nbformat_minor": 0,
  "metadata": {
    "colab": {
      "name": "Untitled3.ipynb",
      "provenance": [],
      "collapsed_sections": [],
      "machine_shape": "hm"
    },
    "kernelspec": {
      "name": "python3",
      "display_name": "Python 3"
    },
    "accelerator": "GPU"
  },
  "cells": [
    {
      "cell_type": "code",
      "metadata": {
        "colab_type": "code",
        "id": "3UtOxuCFw-dw",
        "colab": {}
      },
      "source": [
        "# Run the code in colab\n",
        "from google.colab import drive\n",
        "drive.mount('/content/drive')"
      ],
      "execution_count": 0,
      "outputs": []
    },
    {
      "cell_type": "code",
      "metadata": {
        "id": "ht8q4JYfyCub",
        "colab_type": "code",
        "colab": {}
      },
      "source": [
        "# Authenticate and create the PyDrive client.\n",
        "!pip install -U -q PyDrive\n",
        "from pydrive.auth import GoogleAuth\n",
        "from pydrive.drive import GoogleDrive\n",
        "from google.colab import auth\n",
        "from oauth2client.client import GoogleCredentials\n",
        "auth.authenticate_user()\n",
        "gauth = GoogleAuth()\n",
        "gauth.credentials = GoogleCredentials.get_application_default()\n",
        "drive = GoogleDrive(gauth)"
      ],
      "execution_count": 0,
      "outputs": []
    },
    {
      "cell_type": "code",
      "metadata": {
        "colab_type": "code",
        "id": "XKjSVtnGwaVR",
        "colab": {}
      },
      "source": [
        "one = drive.CreateFile({'id':'1rfqtUeQMwqTd6kmM6HWLfcqYl0lgFqwJ'}) \n",
        "one.GetContentFile('train1.csv')\n",
        "two = drive.CreateFile({'id':'1h-PescmsyHGsSFp-GH2x3XwS3q612TRu'}) \n",
        "two.GetContentFile('test1.csv')  "
      ],
      "execution_count": 0,
      "outputs": []
    },
    {
      "cell_type": "code",
      "metadata": {
        "id": "a-46o4Zrj86L",
        "colab_type": "code",
        "colab": {}
      },
      "source": [
        "import tensorflow as tf\n",
        "from tensorflow import keras\n",
        "import pandas as pd\n",
        "import numpy as np\n",
        "from sklearn.preprocessing import OneHotEncoder\n",
        "from scipy import stats\n",
        "import gc\n",
        "from numpy.random import seed\n",
        "seed(1)\n",
        "from tensorflow import set_random_seed\n",
        "set_random_seed(2)\n",
        "from sklearn import preprocessing\n",
        "from sklearn.decomposition import PCA\n",
        "from keras.layers import Dense, Input\n",
        "from keras.models import Model\n",
        "from keras import optimizers, regularizers\n",
        "import numpy as np\n",
        "import matplotlib.pyplot as plt"
      ],
      "execution_count": 0,
      "outputs": []
    },
    {
      "cell_type": "code",
      "metadata": {
        "id": "PPlIny84kUxo",
        "colab_type": "code",
        "colab": {}
      },
      "source": [
        "train_X = pd.read_csv('train1.csv')\n",
        "gc.collect()"
      ],
      "execution_count": 0,
      "outputs": []
    },
    {
      "cell_type": "code",
      "metadata": {
        "id": "6UikneUirQDz",
        "colab_type": "code",
        "colab": {}
      },
      "source": [
        "# Convert the primary_use column to one-hot codes\n",
        "def onehotConvertor(data):\n",
        "  pu = data.primary_use\n",
        "  pu1 = np.array(pu).reshape(len(pu), -1)\n",
        "  enc = OneHotEncoder()\n",
        "  enc.fit(pu1)\n",
        "  targets = enc.transform(pu1).toarray()\n",
        "  data['pu1'] = targets[:,0]\n",
        "  data['pu2'] = targets[:,1]\n",
        "  data['pu3'] = targets[:,2]\n",
        "  data['pu4'] = targets[:,3]\n",
        "  data['pu5'] = targets[:,4]\n",
        "  data['pu6'] = targets[:,5]\n",
        "  data['pu7'] = targets[:,6]\n",
        "  data['pu8'] = targets[:,7]\n",
        "  data['pu9'] = targets[:,8]\n",
        "  data['pu10'] = targets[:,9]\n",
        "  data['pu11'] = targets[:,10]\n",
        "  data['pu12'] = targets[:,11]\n",
        "  data['pu13'] = targets[:,12]\n",
        "  data['pu14'] = targets[:,13]\n",
        "  data['pu15'] = targets[:,14]\n",
        "  data['pu16'] = targets[:,15]\n",
        "  data = data.drop('primary_use', axis = 1)\n",
        "  return data"
      ],
      "execution_count": 0,
      "outputs": []
    },
    {
      "cell_type": "code",
      "metadata": {
        "id": "-rvwgPmJSjJv",
        "colab_type": "code",
        "colab": {}
      },
      "source": [
        "train_X = onehotConvertor(train_X)\n",
        "gc.collect()"
      ],
      "execution_count": 0,
      "outputs": []
    },
    {
      "cell_type": "code",
      "metadata": {
        "id": "qQVwW4f7qnit",
        "colab_type": "code",
        "colab": {}
      },
      "source": [
        "train_X = train_X.drop('floor_count', axis = 1)\n",
        "train_X = train_X.dropna(axis=0, how='any')\n",
        "gc.collect()"
      ],
      "execution_count": 0,
      "outputs": []
    },
    {
      "cell_type": "code",
      "metadata": {
        "id": "jE-LVkh-r4Jq",
        "colab_type": "code",
        "colab": {}
      },
      "source": [
        "# Normalize the data\n",
        "def normalize(data):\n",
        "  data['building_id'] = stats.zscore(data['building_id'])\n",
        "  data['timestamp'] = stats.zscore(data['timestamp'])\n",
        "  data['square_feet'] = stats.zscore(data['square_feet'])\n",
        "  data['year_built'] = stats.zscore(data['year_built'])\n",
        "  data['air_temperature'] = stats.zscore(data['air_temperature'])\n",
        "  data['dew_temperature'] = stats.zscore(data['dew_temperature'])\n",
        "  data['cloud_coverage'] = stats.zscore(data['cloud_coverage'])\n",
        "  data['precip_depth_1_hr'] = stats.zscore(data['precip_depth_1_hr'])\n",
        "  data['wind_direction'] = stats.zscore(data['wind_direction'])\n",
        "  data['wind_speed'] = stats.zscore(data['wind_speed'])\n",
        "  return data"
      ],
      "execution_count": 0,
      "outputs": []
    },
    {
      "cell_type": "code",
      "metadata": {
        "id": "CSk6dcwjtKBg",
        "colab_type": "code",
        "colab": {}
      },
      "source": [
        "train_X = normalize(train_X)\n",
        "gc.collect()"
      ],
      "execution_count": 0,
      "outputs": []
    },
    {
      "cell_type": "code",
      "metadata": {
        "id": "CD_pNONfjJL_",
        "colab_type": "code",
        "colab": {}
      },
      "source": [
        "train_y = train_X.pop('meter_reading')\n",
        "gc.collect()"
      ],
      "execution_count": 0,
      "outputs": []
    },
    {
      "cell_type": "code",
      "metadata": {
        "id": "DGjrX_gNncwn",
        "colab_type": "code",
        "colab": {}
      },
      "source": [
        "test_X = pd.read_csv('test1.csv')\n",
        "gc.collect()"
      ],
      "execution_count": 0,
      "outputs": []
    },
    {
      "cell_type": "code",
      "metadata": {
        "id": "Bredb9nUVZXf",
        "colab_type": "code",
        "colab": {}
      },
      "source": [
        "test_X = onehotConvertor(test_X)\n",
        "gc.collect()"
      ],
      "execution_count": 0,
      "outputs": []
    },
    {
      "cell_type": "code",
      "metadata": {
        "id": "Fh2M2ONanu28",
        "colab_type": "code",
        "colab": {}
      },
      "source": [
        "test_X = test_X.drop('row_id', axis = 1)\n",
        "test_X = test_X.drop('floor_count', axis = 1)\n",
        "gc.collect()"
      ],
      "execution_count": 0,
      "outputs": []
    },
    {
      "cell_type": "code",
      "metadata": {
        "id": "QvnddfD5Is8U",
        "colab_type": "code",
        "colab": {}
      },
      "source": [
        "test_X = normalize(test_X)\n",
        "gc.collect()"
      ],
      "execution_count": 0,
      "outputs": []
    },
    {
      "cell_type": "code",
      "metadata": {
        "id": "CNtrOTQ_kEXB",
        "colab_type": "code",
        "colab": {
          "base_uri": "https://localhost:8080/",
          "height": 144
        },
        "outputId": "80758673-5852-4648-8b4d-780d44e07301"
      },
      "source": [
        "# Construct the model\n",
        "inputs = Input(shape=(28,))\n",
        "encoded1 = Dense(14, activation='relu')(inputs)\n",
        "encoded2 = Dense(7, activation='relu')(encoded1)\n",
        "encoded3 = Dense(3, activation='relu')(encoded2)\n",
        "outputs = Dense(1)(encoded3)\n",
        "SSAE_model = Model(inputs, outputs)"
      ],
      "execution_count": 4,
      "outputs": [
        {
          "output_type": "stream",
          "text": [
            "WARNING:tensorflow:From /usr/local/lib/python3.6/dist-packages/keras/backend/tensorflow_backend.py:66: The name tf.get_default_graph is deprecated. Please use tf.compat.v1.get_default_graph instead.\n",
            "\n",
            "WARNING:tensorflow:From /usr/local/lib/python3.6/dist-packages/keras/backend/tensorflow_backend.py:541: The name tf.placeholder is deprecated. Please use tf.compat.v1.placeholder instead.\n",
            "\n",
            "WARNING:tensorflow:From /usr/local/lib/python3.6/dist-packages/keras/backend/tensorflow_backend.py:4432: The name tf.random_uniform is deprecated. Please use tf.random.uniform instead.\n",
            "\n"
          ],
          "name": "stdout"
        }
      ]
    },
    {
      "cell_type": "code",
      "metadata": {
        "id": "YmeN1lWUkrni",
        "colab_type": "code",
        "colab": {}
      },
      "source": [
        "# Pretrain AE1 \n",
        "ipt = Input(shape=(28,))\n",
        "encoded = Dense(14, activation='relu')(ipt)\n",
        "decoded = Dense(28)(encoded)\n",
        "autoencoder = Model(ipt, decoded)\n",
        "encoder = Model(ipt, encoded)\n",
        "autoencoder.compile(optimizer='adam', loss='mse', metrics=['accuracy'])\n",
        "autoencoder.fit([train_X], [train_X], epochs=10, batch_size=100)\n",
        "code = encoder.predict([train_X])\n",
        "SSAE_model.layers[1].set_weights(encoder.layers[-1].get_weights())"
      ],
      "execution_count": 0,
      "outputs": []
    },
    {
      "cell_type": "code",
      "metadata": {
        "id": "DXJPRcw8lvw5",
        "colab_type": "code",
        "colab": {}
      },
      "source": [
        "# Pretrain AE2\n",
        "ipt = Input(shape=(14,))\n",
        "encoded = Dense(7, activation='relu')(ipt)\n",
        "decoded = Dense(14)(encoded)\n",
        "autoencoder = Model(ipt, decoded)\n",
        "encoder = Model(ipt, encoded)\n",
        "autoencoder.compile(optimizer='adam', loss='mse', metrics=['accuracy'])\n",
        "autoencoder.fit([code], [code], epochs=10, batch_size=100)\n",
        "code = encoder.predict([code])\n",
        "SSAE_model.layers[2].set_weights(encoder.layers[-1].get_weights())"
      ],
      "execution_count": 0,
      "outputs": []
    },
    {
      "cell_type": "code",
      "metadata": {
        "id": "CB3OTdSenAeD",
        "colab_type": "code",
        "colab": {}
      },
      "source": [
        "# Pretrain AE3\n",
        "ipt = Input(shape=(7,))\n",
        "encoded = Dense(3, activation='relu')(ipt)\n",
        "decoded = Dense(7)(encoded)\n",
        "autoencoder = Model(ipt, decoded)\n",
        "encoder = Model(ipt, encoded)\n",
        "autoencoder.compile(optimizer='adam', loss='mse', metrics=['accuracy'])\n",
        "autoencoder.fit([code], [code], epochs=10, batch_size=100)\n",
        "code = encoder.predict([code])\n",
        "SSAE_model.layers[3].set_weights(encoder.layers[-1].get_weights())"
      ],
      "execution_count": 0,
      "outputs": []
    },
    {
      "cell_type": "code",
      "metadata": {
        "id": "1YLn9nCAdA1A",
        "colab_type": "code",
        "colab": {}
      },
      "source": [
        "# Pretrain AE4\n",
        "ipt = Input(shape=(3,))\n",
        "encoded = Dense(1, activation='relu')(ipt)\n",
        "decoded = Dense(3)(encoded)\n",
        "autoencoder = Model(ipt, decoded)\n",
        "encoder = Model(ipt, encoded)\n",
        "autoencoder.compile(optimizer='adam', loss='mse', metrics=['accuracy'])\n",
        "autoencoder.fit([code], [code], epochs=10, batch_size=100)\n",
        "code = encoder.predict([code])\n",
        "SSAE_model.layers[4].set_weights(encoder.layers[-1].get_weights())"
      ],
      "execution_count": 0,
      "outputs": []
    },
    {
      "cell_type": "code",
      "metadata": {
        "id": "oR8JmfWZnTNo",
        "colab_type": "code",
        "colab": {}
      },
      "source": [
        "# Train DNN\n",
        "SSAE_model.compile(optimizer='adam', loss='mse', metrics=['accuracy'])\n",
        "SSAE_model.fit([train_X], [train_y], epochs=50, batch_size=100)"
      ],
      "execution_count": 0,
      "outputs": []
    },
    {
      "cell_type": "code",
      "metadata": {
        "id": "pU12s2valqnQ",
        "colab_type": "code",
        "colab": {}
      },
      "source": [
        "# Test\n",
        "test_y = SSAE_model.predict([test_X])"
      ],
      "execution_count": 0,
      "outputs": []
    }
  ]
}